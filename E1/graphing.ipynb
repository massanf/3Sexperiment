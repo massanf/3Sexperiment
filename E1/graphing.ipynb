{
 "cells": [
  {
   "cell_type": "code",
   "execution_count": 81,
   "id": "e84bda26",
   "metadata": {},
   "outputs": [
    {
     "data": {
      "text/plain": [
       "[<matplotlib.lines.Line2D at 0x120b17490>]"
      ]
     },
     "execution_count": 81,
     "metadata": {},
     "output_type": "execute_result"
    },
    {
     "data": {
      "image/png": "[encoded data removed]",
      "text/plain": [
       "<Figure size 432x288 with 1 Axes>"
      ]
     },
     "metadata": {
      "needs_background": "light"
     },
     "output_type": "display_data"
    }
   ],
   "source": [
    "import os\n",
    "import csv\n",
    "import sys\n",
    "import math\n",
    "import matplotlib.pyplot as plt\n",
    "\n",
    "file = open(\"電界分布計算結果.csv\")\n",
    "csv_reader = csv.reader(file)\n",
    "\n",
    "r = []\n",
    "z = []\n",
    "V = []\n",
    "Er = []\n",
    "Ez = []\n",
    "E = []\n",
    "alpha = []\n",
    "pcmhg = [i for i in range (1, 100)] #P(cmHg)\n",
    "#print(pcmhg)\n",
    "p = [766.5-i*10.0-1.0 for i in pcmhg] #P(torr)\n",
    "\n",
    "\n",
    "pd = []\n",
    "Vs = []\n",
    "d = 0.5\n",
    "K = 10\n",
    "\n",
    "#データ読み込み\n",
    "for row in csv_reader:\n",
    "    r.append(float(row[1]))\n",
    "    z.append(float(row[2])*10)\n",
    "    V.append(float(row[3]))\n",
    "    Er.append(float(row[4]))\n",
    "    Ez.append(float(row[5]))\n",
    "    E.append(float(row[6])*1000)\n",
    "\n",
    "for p_ in range (0, 68): #pごとにVsを計算\n",
    "    integral = 0\n",
    "    #数値積分\n",
    "    ratio = 0\n",
    "    while (integral < K):\n",
    "        ratio += 0.2\n",
    "        integral = 0\n",
    "        for i in range (1, 103): #gap=0.5, r=0のデータを使う(???)\n",
    "            #zで、0.0mmから積分値>Kになるところまで積分(???)\n",
    "            #alphaの計算\n",
    "            Enew = ratio * E[i]\n",
    "            if(Enew/p[p_]<31.6):\n",
    "                alpha = 0\n",
    "            elif (31.6 <= Enew/p[p_] and Enew/p[p_] < 60):\n",
    "                alpha = p[p_]/10000.0*(1.407*((Enew/p[p_]-28.5)*(Enew/p[p_]-28.5))-12.6)\n",
    "            elif (60.0 <= Enew/p[p_] and Enew/p[p_] < 100.0):\n",
    "                alpha = (1.0-0.00674755*(Enew/p[p_]-60.0))*p[p_]/10000.0*(1.407*((Enew/p[p_]-28.5)*(Enew/p[p_]-28.5))-12.6)\n",
    "            elif (Enew/p[p_] > 100.0):\n",
    "                alpha = 15.0 * p[p_] * math.exp(-365.0/(Enew/p[p_]))\n",
    "            integral += (z[i]-z[i-1])*alpha\n",
    "    pd.append(p[p_])\n",
    "    Vs.append(ratio)\n",
    "    \n",
    "plt.plot(pd,Vs)"
   ]
  },
  {
   "cell_type": "code",
   "execution_count": null,
   "id": "cff96e11",
   "metadata": {},
   "outputs": [],
   "source": []
  },
  {
   "cell_type": "code",
   "execution_count": null,
   "id": "d36f0cdc",
   "metadata": {},
   "outputs": [],
   "source": []
  }
 ],
 "metadata": {
  "kernelspec": {
   "display_name": "Python 3",
   "language": "python",
   "name": "python3"
  },
  "language_info": {
   "codemirror_mode": {
    "name": "ipython",
    "version": 3
   },
   "file_extension": ".py",
   "mimetype": "text/x-python",
   "name": "python",
   "nbconvert_exporter": "python",
   "pygments_lexer": "ipython3",
   "version": "3.9.5"
  }
 },
 "nbformat": 4,
 "nbformat_minor": 5
}
