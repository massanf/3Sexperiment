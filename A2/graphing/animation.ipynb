{
 "metadata": {
  "language_info": {
   "codemirror_mode": {
    "name": "ipython",
    "version": 3
   },
   "file_extension": ".py",
   "mimetype": "text/x-python",
   "name": "python",
   "nbconvert_exporter": "python",
   "pygments_lexer": "ipython3",
   "version": 3
  },
  "orig_nbformat": 2
 },
 "nbformat": 4,
 "nbformat_minor": 2,
 "cells": [
  {
   "source": [
    "# アニメーション"
   ],
   "cell_type": "markdown",
   "metadata": {}
  },
  {
   "cell_type": "code",
   "execution_count": null,
   "metadata": {},
   "outputs": [],
   "source": [
    "import matplotlib.animation as animation\n",
    "\n",
    "C = 16.7**(10**-9) \n",
    "R = 10000\n",
    "k = [i/1000 for i in range (10, 1000)]\n",
    "A = 6\n",
    "x = []\n",
    "y = []\n",
    "x_ = []\n",
    "y_ = []\n",
    "\n",
    "fig = plt.figure(figsize=(8,8))\n",
    "for i in range (0, 100000):\n",
    "    k = i/100000\n",
    "    a = C**2 * R**2\n",
    "    b = (3-k*A)*C*R\n",
    "    c = 1\n",
    "    s = (-b + pow((b**2-4*a*c),0.5)) / (2*a)\n",
    "    s_ = (-b - pow((b**2-4*a*c),0.5)) / (2*a)\n",
    "    x.append(s.real)\n",
    "    y.append(s.imag)\n",
    "    x_.append(s_.real)\n",
    "    y_.append(s_.imag)\n",
    "plt.plot(x,y)\n",
    "plt.plot(x_,y_)\n",
    "\n",
    "#k=0.5\n",
    "ims = []\n",
    "ims_ = []\n",
    "point = 0\n",
    "point = plt.scatter(s.real,s.imag,c='blue')\n",
    "def plotthis(i):\n",
    "    plt.cla()\n",
    "    plt.plot(x,y)\n",
    "    plt.plot(x_,y_)\n",
    "    k = i/100\n",
    "    a = C**2 * R**2\n",
    "    b = (3-k*A)*C*R\n",
    "    c = 1\n",
    "    s = (-b + pow((b**2-4*a*c),0.5)) / (2*a)\n",
    "    s_ = (-b - pow((b**2-4*a*c),0.5)) / (2*a)\n",
    "    plt.scatter(s.real,s.imag,c='blue')\n",
    "    plt.scatter(s_.real,s_.imag,c='orange')\n",
    "    plt.gca().spines['left'].set(position='zero')\n",
    "    plt.gca().spines['bottom'].set(position='center')\n",
    "    plt.gca().spines['right'].set_visible(False)\n",
    "    plt.gca().spines['top'].set_visible(False)\n",
    "    plt.gca().yaxis.set_ticks_position('left')\n",
    "    plt.gca().xaxis.set_ticks_position('bottom')\n",
    "    plt.title(\"K = \"+'{:.2f}'.format(i/100))\n",
    "\n",
    "i = [i/100 for i in range (0,100)]\n",
    "\n",
    "ani = animation.FuncAnimation(fig, plotthis, interval = 30,frames = 100)\n",
    "ani.save('anim.mp4', writer=\"ffmpeg\")"
   ]
  }
 ]
}